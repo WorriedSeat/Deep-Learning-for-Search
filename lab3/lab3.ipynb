{
 "cells": [
  {
   "cell_type": "markdown",
   "id": "c71e5667",
   "metadata": {},
   "source": [
    "### Part1:\n",
    "I will use the following Ranking Metrics:\n",
    "1. Precision@k - it will provide insights on how precisely our ranking model works among some part of the documents.\n",
    "2. Recall@k - it will provide insights on how fully our ranking model display results to the user.\n",
    "3. Hits@k - it will provide insights on how relevant the ranking for real user."
   ]
  },
  {
   "cell_type": "markdown",
   "id": "2a71b06a",
   "metadata": {},
   "source": [
    "### Part 2:\n",
    "- Assumption: score $\\geq$ 0.65 is represent a relevant document.\n",
    "- Note: all scores are in [0, 1]\n",
    "___\n",
    "Functions that will generate search results from the following distribution:\n",
    "1. Normal(Gaussian) - with mean=0.6 and standard deviation=0.2 represent easy query where more documents will be relevant\n",
    "2. Uniform - no guarantees on how many relevant documents will be\n",
    "3. Beta - with a=2 and b=3 most of the documents will be around score 0.4 what represents more difficult query and less relevant results"
   ]
  },
  {
   "cell_type": "code",
   "execution_count": 20,
   "id": "ee6e1f7b",
   "metadata": {},
   "outputs": [],
   "source": [
    "import numpy as np\n",
    "from scipy.stats import norm, uniform, beta\n",
    "\n",
    "DISTRIBUTION_DICT = {'norm':{'loc':0.6, 'scale':0.2},'uniform':{}, 'beta':{'a':2, 'b':3}}\n",
    "\n",
    "class Distribution:\n",
    "    def __init__(self, name:str):\n",
    "        if name in DISTRIBUTION_DICT.keys():\n",
    "            self.name = name\n",
    "        else:\n",
    "            raise NameError(\"No such distribution\")\n",
    "    \n",
    "    def sample_elements(self, n:int):\n",
    "        if n < 0:\n",
    "            raise ValueError(\"Negative sample size\")\n",
    "        \n",
    "        elif self.name == 'norm':\n",
    "            return np.clip(norm.rvs(loc=DISTRIBUTION_DICT[self.name]['loc'], scale=DISTRIBUTION_DICT[self.name]['scale'], size=n), 0, 1)\n",
    "        \n",
    "        elif self.name == 'uniform':\n",
    "            return uniform.rvs(size=n)\n",
    "        \n",
    "        elif self.name == 'beta':\n",
    "            return beta.rvs(a=DISTRIBUTION_DICT['beta']['a'], b=DISTRIBUTION_DICT['beta']['b'], size=n)\n",
    "        "
   ]
  },
  {
   "cell_type": "markdown",
   "id": "a0d04f34",
   "metadata": {},
   "source": [
    "### Part 3:\n",
    "Implementing class Ranking with all ranking functions\n",
    "Assumption: half of the results will be displayed on the first page and third part of the results will be displayed on the screen without scrolling."
   ]
  },
  {
   "cell_type": "code",
   "execution_count": 28,
   "id": "8941f32e",
   "metadata": {},
   "outputs": [],
   "source": [
    "class Ranking:\n",
    "    def __init__(self, results:np.ndarray):\n",
    "        self.threshold = 0.65\n",
    "        self.results = np.where(results >= self.threshold, 1, 0)\n",
    "        self.ranking_args = {'Prec@k': 0.5, 'Recall@k': 0.5, 'Hit@k':0.3}\n",
    "        \n",
    "    def precision(self):\n",
    "        k = int(len(self.results)*self.ranking_args['Prec@k'])\n",
    "        return sum(self.results[:k])/k   \n",
    "    \n",
    "    def recall(self):\n",
    "        k = int(len(self.results)*self.ranking_args['Recall@k'])\n",
    "        return sum(self.results[:k])/sum(self.results)\n",
    "        \n",
    "    def hits(self):\n",
    "        k = int(len(self.results)*self.ranking_args['Hit@k'])\n",
    "        return 1 if sum(self.results[:k]) > 0 else 0\n",
    "    \n"
   ]
  },
  {
   "cell_type": "markdown",
   "id": "57111390",
   "metadata": {},
   "source": [
    "### Part 4:\n",
    "Evaluating rank metrics"
   ]
  },
  {
   "cell_type": "code",
   "execution_count": 33,
   "id": "46186e03",
   "metadata": {},
   "outputs": [
    {
     "name": "stdout",
     "output_type": "stream",
     "text": [
      "For normal distribution:\n",
      "Interpreted values:[1 1 1 0 1 0 0 1 1 0 0 1 1 1 0 0 0 1 1 0]\n",
      "Precission@k:0.6\n",
      "Recall@k:0.5454545454545454\n",
      "Hits@k:1\n",
      "__________________________________________________\n",
      "For uniform distribution:\n",
      "Interpreted values:[0 0 0 1 1 1 0 0 1 1 0 1 0 0 0 0 0 1 1 0]\n",
      "Precission@k:0.5\n",
      "Recall@k:0.625\n",
      "Hits@k:1\n",
      "__________________________________________________\n",
      "For beta distribution:\n",
      "Interpreted values:[0 0 0 0 0 0 0 0 1 0 0 0 1 0 0 0 0 1 0 0]\n",
      "Precission@k:0.1\n",
      "Recall@k:0.3333333333333333\n",
      "Hits@k:0\n"
     ]
    }
   ],
   "source": [
    "norm_d = Distribution('norm').sample_elements(20)\n",
    "uniform_d = Distribution('uniform').sample_elements(20)\n",
    "beta_d = Distribution('beta').sample_elements(20)\n",
    "\n",
    "\n",
    "norm_ranking = Ranking(norm_d)\n",
    "print(f\"For normal distribution:\\nInterpreted values:{norm_ranking.results}\\nPrecission@k:{norm_ranking.precision()}\\nRecall@k:{norm_ranking.recall()}\\nHits@k:{norm_ranking.hits()}\")\n",
    "print('_'*50)\n",
    "uniform_ranking = Ranking(uniform_d)\n",
    "print(f\"For uniform distribution:\\nInterpreted values:{uniform_ranking.results}\\nPrecission@k:{uniform_ranking.precision()}\\nRecall@k:{uniform_ranking.recall()}\\nHits@k:{uniform_ranking.hits()}\")\n",
    "print('_'*50)\n",
    "beta_ranking = Ranking(beta_d)\n",
    "print(f\"For beta distribution:\\nInterpreted values:{beta_ranking.results}\\nPrecission@k:{beta_ranking.precision()}\\nRecall@k:{beta_ranking.recall()}\\nHits@k:{beta_ranking.hits()}\")"
   ]
  }
 ],
 "metadata": {
  "kernelspec": {
   "display_name": "Python 3",
   "language": "python",
   "name": "python3"
  },
  "language_info": {
   "codemirror_mode": {
    "name": "ipython",
    "version": 3
   },
   "file_extension": ".py",
   "mimetype": "text/x-python",
   "name": "python",
   "nbconvert_exporter": "python",
   "pygments_lexer": "ipython3",
   "version": "3.10.12"
  }
 },
 "nbformat": 4,
 "nbformat_minor": 5
}
